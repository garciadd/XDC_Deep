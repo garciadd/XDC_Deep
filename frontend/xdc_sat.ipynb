{
 "cells": [
  {
   "cell_type": "code",
   "execution_count": 1,
   "metadata": {},
   "outputs": [
    {
     "data": {
      "application/vnd.jupyter.widget-view+json": {
       "model_id": "a66dbd59d2174512b9b9c6e17856196b",
       "version_major": 2,
       "version_minor": 0
      },
      "text/plain": [
       "Tab(children=(VBox(children=(GridspecLayout(children=(HBox(children=(DatePicker(value=None, description='Initi…"
      ]
     },
     "metadata": {},
     "output_type": "display_data"
    }
   ],
   "source": [
    "%run -i xdc_sat_nb\n",
    "%matplotlib notebook\n",
    "user_interface"
   ]
  },
  {
   "cell_type": "code",
   "execution_count": 9,
   "metadata": {},
   "outputs": [
    {
     "data": {
      "text/plain": [
       "<subprocess.Popen at 0x7fa6ae998dd8>"
      ]
     },
     "execution_count": 9,
     "metadata": {},
     "output_type": "execute_result"
    }
   ],
   "source": [
    "import subprocess\n",
    "#mount onedata\n",
    "subprocess.Popen('/srv/job.sh', stdin=subprocess.PIPE)"
   ]
  },
  {
   "cell_type": "code",
   "execution_count": 2,
   "metadata": {},
   "outputs": [],
   "source": [
    "# SATSR\n",
    "import os\n",
    "import subprocess\n",
    "\n",
    "from urllib.parse import urlencode\n",
    "from urllib.parse import quote, quote_plus\n",
    "\n",
    "## Serverless (para cuando esté listo)\n",
    "#api_url = 'https://deepaas.deep-hybrid-datacloud.eu/api/v1/web/deepaas/deep-oc/satsr/v2/models/satsr/predict/'\n",
    "\n",
    "# Deployment Orchestrator (temporal)\n",
    "api_url = 'http://193.146.75.183:10031/v2/models/satsr/predict/'\n",
    "\n",
    "#path = '/home/ignacio/Downloads/S2A_MSIL1C_20170608T105651_N0205_R094_T30TWM_20170608T110453.SAFE.zip'\n",
    "path = '/mnt/onedata/XDC_LifeWatch/CdP/S2B_MSIL1C_20190911T105629_N0208_R094_T30TWM_20190911T144412.zip'\n",
    "outpath = os.path.splitext(path)[0] + '.tiff'\n",
    "\n",
    "query = {'accept': 'image/tiff',\n",
    "         'satellite': '\"sentinel2\"',\n",
    "         'roi_x_y_test': '[2000, 2000, 2500, 2500]',\n",
    "         'roi_lon_lat_test': 'null',\n",
    "         'max_res_test': 'null',\n",
    "         'copy_original_bands': 'true',\n",
    "         'output_file_format': '\"GTiff\"',\n",
    "         'output_path': 'null'\n",
    "        }\n",
    "\n",
    "url = api_url + '?' + urlencode(query).replace('+', '%20')\n",
    "\n",
    "# accept=image%2Ftiff&satellite=%22sentinel2%22&roi_x_y_test=%5B2000%2C%202000%2C%202500%2C%202500%5D&roi_lon_lat_test=null&max_res_test=null&copy_original_bands=true&output_file_format=%22GTiff%22&output_path=null\n",
    "\n",
    "r = subprocess.run('curl -X POST \"{}\" -H \"accept: image/tiff\" -H \"Content-Type: multipart/form-data\" -F \"data=@{};type=application/zip\"'.format(url, path),\n",
    "                   shell=True, check=True, stdout=subprocess.PIPE).stdout\n",
    "\n",
    "with open(outpath, 'wb') as f:\n",
    "    f.write(r)"
   ]
  },
  {
   "cell_type": "code",
   "execution_count": 3,
   "metadata": {},
   "outputs": [
    {
     "name": "stdout",
     "output_type": "stream",
     "text": [
      "a+b\n"
     ]
    }
   ],
   "source": [
    "print ('a+{}'.format('b'))"
   ]
  }
 ],
 "metadata": {
  "kernelspec": {
   "display_name": "Python 3",
   "language": "python",
   "name": "python3"
  },
  "language_info": {
   "codemirror_mode": {
    "name": "ipython",
    "version": 3
   },
   "file_extension": ".py",
   "mimetype": "text/x-python",
   "name": "python",
   "nbconvert_exporter": "python",
   "pygments_lexer": "ipython3",
   "version": "3.6.8"
  }
 },
 "nbformat": 4,
 "nbformat_minor": 4
}
